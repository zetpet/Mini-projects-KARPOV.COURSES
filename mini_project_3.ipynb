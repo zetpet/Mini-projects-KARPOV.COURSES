{
 "cells": [
  {
   "cell_type": "code",
   "execution_count": 503,
   "metadata": {},
   "outputs": [],
   "source": [
    "import pandas as pd\n",
    "import os\n",
    "import seaborn as sns\n",
    "import matplotlib.pyplot as plt\n",
    "%matplotlib inline"
   ]
  },
  {
   "cell_type": "code",
   "execution_count": 558,
   "metadata": {},
   "outputs": [],
   "source": [
    "#Соберите все данные из папки data в один датафрэйм\n",
    "total_df = pd.DataFrame()\n",
    "for i in os.listdir('/mnt/HC_Volume_18315164/home-jupyter/jupyter-r-ababkov/shared/homeworks/python_ds_miniprojects/4/data/'):\n",
    "    way_to_folder = '/mnt/HC_Volume_18315164/home-jupyter/jupyter-r-ababkov/shared/homeworks/python_ds_miniprojects/4/data/' + i\n",
    "    date_list = way_to_folder.split('/')[-1]\n",
    "    for k in os.listdir(way_to_folder):\n",
    "        way_to_csv = way_to_folder + '/' + k\n",
    "        name_list = way_to_csv.split('/')[-1]\n",
    "        for j in os.listdir(way_to_csv):\n",
    "            open_csv = way_to_csv + '/' + j\n",
    "            final_df = pd.read_csv(open_csv)\n",
    "            final_df['name'] = name_list\n",
    "            final_df['date'] = date_list\n",
    "            total_df = pd.concat([total_df, final_df])            "
   ]
  },
  {
   "cell_type": "code",
   "execution_count": 527,
   "metadata": {},
   "outputs": [],
   "source": [
    "# barplot_total = total_df.groupby('product_id', as_index = False) \\\n",
    "#     .agg({'quantity' : 'sum'}) \\\n",
    "#     .sort_values('quantity')"
   ]
  },
  {
   "cell_type": "code",
   "execution_count": 540,
   "metadata": {},
   "outputs": [],
   "source": [
    "# plt.figure(figsize=(20, 10))\n",
    "# sns.barplot(data=barplot_total, x=\"product_id\", y=\"quantity\", color=(0.4, 0.4, 0.4, 0.4),  edgecolor='blue')"
   ]
  },
  {
   "cell_type": "code",
   "execution_count": 552,
   "metadata": {},
   "outputs": [],
   "source": [
    "# day_sales = total_df.groupby('date', as_index = False) \\\n",
    "#     .agg({'quantity' : 'sum'})\n",
    "# plt.figure(figsize=(20, 10))\n",
    "# sns.barplot(data=day_sales, x=\"date\", y=\"quantity\", color=(0.6, 0.6, 0.6, 0.4),  edgecolor='blue')"
   ]
  },
  {
   "cell_type": "code",
   "execution_count": 586,
   "metadata": {},
   "outputs": [],
   "source": [
    "#Сколько пользователей приобрели какой-либо товар повторно (более 1 раза)? \n",
    "    #Повтором будем считать покупку товара с одинаковым product_id, совершенную в разные дни. \n",
    "not_dupl = total_df.drop_duplicates(subset=['product_id', 'name', 'date'])\n",
    "user_dupl = not_dupl.groupby(['name', 'product_id'], as_index = False) \\\n",
    "    .agg({'date' : 'count'}) \\\n",
    "    .query('date > 1')"
   ]
  }
 ],
 "metadata": {
  "kernelspec": {
   "display_name": "Python 3",
   "language": "python",
   "name": "python3"
  },
  "language_info": {
   "codemirror_mode": {
    "name": "ipython",
    "version": 3
   },
   "file_extension": ".py",
   "mimetype": "text/x-python",
   "name": "python",
   "nbconvert_exporter": "python",
   "pygments_lexer": "ipython3",
   "version": "3.7.3"
  }
 },
 "nbformat": 4,
 "nbformat_minor": 4
}
