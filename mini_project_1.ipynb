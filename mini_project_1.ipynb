{
 "cells": [
  {
   "cell_type": "code",
   "execution_count": 3,
   "metadata": {},
   "outputs": [],
   "source": [
    "import pandas as pd"
   ]
  },
  {
   "cell_type": "code",
   "execution_count": 5,
   "metadata": {
    "scrolled": false
   },
   "outputs": [],
   "source": [
    "df = pd.read_csv('/mnt/HC_Volume_18315164/home-jupyter/jupyter-r-ababkov/dataset/2_bookings.csv', encoding='windows-1251', sep = ';')"
   ]
  },
  {
   "cell_type": "code",
   "execution_count": 6,
   "metadata": {},
   "outputs": [],
   "source": [
    "#Приведем названия столбцов к нижнему регистру и заменим пробелы на знак нижнего подчеркивания\n",
    "def new_df(columns):\n",
    "    new_df = columns.lower().replace(\" \", \"_\")\n",
    "    return new_df\n",
    "df = df.rename(columns = new_df)"
   ]
  },
  {
   "cell_type": "code",
   "execution_count": 7,
   "metadata": {},
   "outputs": [],
   "source": [
    "#Страны с наибольшим число успешных бронирований\n",
    "top_5_country = df.query('is_canceled == 0') \\\n",
    "                .groupby('country', as_index = False) \\\n",
    "                .agg({'is_canceled' : 'count'}) \\\n",
    "                .sort_values('is_canceled')"
   ]
  },
  {
   "cell_type": "code",
   "execution_count": 8,
   "metadata": {},
   "outputs": [],
   "source": [
    "#Среднее число забронированных ночей в отелях типа resort hotel\n",
    "stays_total_nights_resort_hotel = df.query('hotel == \"Resort Hotel\"') \\\n",
    "                    .groupby('hotel', as_index = False) \\\n",
    "                    .agg({'stays_total_nights' : 'mean'}) \\\n",
    "                    .round(2)"
   ]
  },
  {
   "cell_type": "code",
   "execution_count": 9,
   "metadata": {},
   "outputs": [],
   "source": [
    "#Среднее число забронированных ночей в отелях типа city hotel\n",
    "stays_total_nights_city_hotel = df.query('hotel == \"City Hotel\"') \\\n",
    "                    .groupby('hotel', as_index = False) \\\n",
    "                    .agg({'stays_total_nights' : 'mean'}) \\\n",
    "                    .round(2)"
   ]
  },
  {
   "cell_type": "code",
   "execution_count": 10,
   "metadata": {},
   "outputs": [],
   "source": [
    "overbooking = df.query('assigned_room_type != reserved_room_type')"
   ]
  },
  {
   "cell_type": "code",
   "execution_count": 11,
   "metadata": {},
   "outputs": [],
   "source": [
    "analys_arrival_date_year_2016 = df.query('arrival_date_year == 2016') \\\n",
    "                             .groupby('arrival_date_month', as_index = False) \\\n",
    "                             .agg({'arrival_date_year' : 'count'}) \\\n",
    "                             .sort_values('arrival_date_year')"
   ]
  },
  {
   "cell_type": "code",
   "execution_count": 12,
   "metadata": {},
   "outputs": [],
   "source": [
    "analys_arrival_date_year_2017 = df.query('arrival_date_year == 2017') \\\n",
    "                             .groupby('arrival_date_month', as_index = False) \\\n",
    "                             .agg({'arrival_date_year' : 'count'}) \\\n",
    "                             .sort_values('arrival_date_year')"
   ]
  },
  {
   "cell_type": "code",
   "execution_count": 13,
   "metadata": {},
   "outputs": [],
   "source": [
    "cancel_city_hotel_2015 = df.query('arrival_date_year == 2015 and hotel == \"City Hotel\"') \\\n",
    "                             .groupby(['arrival_date_month', 'hotel'], as_index = False) \\\n",
    "                             .agg({'arrival_date_year' : 'count', 'is_canceled' : 'count'}) \\\n",
    "                             .sort_values('arrival_date_year')"
   ]
  },
  {
   "cell_type": "code",
   "execution_count": 14,
   "metadata": {},
   "outputs": [],
   "source": [
    "cancel_city_hotel_2016 = df.query('arrival_date_year == 2016 and hotel == \"City Hotel\"') \\\n",
    "                             .groupby(['arrival_date_month', 'hotel'], as_index = False) \\\n",
    "                             .agg({'arrival_date_year' : 'count', 'is_canceled' : 'count'}) \\\n",
    "                             .sort_values('arrival_date_year')"
   ]
  },
  {
   "cell_type": "code",
   "execution_count": 15,
   "metadata": {},
   "outputs": [],
   "source": [
    "cancel_city_hotel_2017 = df.query('arrival_date_year == 2017 and hotel == \"City Hotel\"') \\\n",
    "                             .groupby(['arrival_date_month', 'hotel'], as_index = False) \\\n",
    "                             .agg({'arrival_date_year' : 'count', 'is_canceled' : 'count'}) \\\n",
    "                             .sort_values('arrival_date_year')"
   ]
  },
  {
   "cell_type": "code",
   "execution_count": 16,
   "metadata": {},
   "outputs": [],
   "source": [
    "mean_columns = df[['adults', 'babies', 'babies']].mean()"
   ]
  },
  {
   "cell_type": "code",
   "execution_count": 17,
   "metadata": {},
   "outputs": [],
   "source": [
    "df['total_kids'] = df.children + df.babies"
   ]
  },
  {
   "cell_type": "code",
   "execution_count": 18,
   "metadata": {},
   "outputs": [],
   "source": [
    "mean_hotel_total_kids = df.groupby('hotel', as_index = False) \\\n",
    "                          .agg({'total_kids' : 'mean'}) \\\n",
    "                          .round(2)"
   ]
  },
  {
   "cell_type": "code",
   "execution_count": 19,
   "metadata": {},
   "outputs": [],
   "source": [
    "df['has_kids'] = df['total_kids'] >= 1"
   ]
  },
  {
   "cell_type": "code",
   "execution_count": 20,
   "metadata": {},
   "outputs": [],
   "source": [
    "df['has_not_kids'] = df['total_kids'] < 1"
   ]
  },
  {
   "cell_type": "code",
   "execution_count": 21,
   "metadata": {},
   "outputs": [],
   "source": [
    "has_kids_true_true = df.query('is_canceled == True and has_kids == True') \\\n",
    "               .agg({'is_canceled' : 'count' })"
   ]
  },
  {
   "cell_type": "code",
   "execution_count": 22,
   "metadata": {},
   "outputs": [
    {
     "data": {
      "text/plain": [
       "is_canceled    3259\n",
       "dtype: int64"
      ]
     },
     "execution_count": 22,
     "metadata": {},
     "output_type": "execute_result"
    }
   ],
   "source": [
    "has_kids_true_true"
   ]
  },
  {
   "cell_type": "code",
   "execution_count": 23,
   "metadata": {},
   "outputs": [],
   "source": [
    "has_kids_true = df.query('has_kids == True') \\\n",
    "               .agg({'is_canceled' : 'count' })"
   ]
  },
  {
   "cell_type": "code",
   "execution_count": 24,
   "metadata": {},
   "outputs": [
    {
     "data": {
      "text/plain": [
       "is_canceled    9332\n",
       "dtype: int64"
      ]
     },
     "execution_count": 24,
     "metadata": {},
     "output_type": "execute_result"
    }
   ],
   "source": [
    "has_kids_true"
   ]
  },
  {
   "cell_type": "code",
   "execution_count": 25,
   "metadata": {},
   "outputs": [],
   "source": [
    "#Считаем коэффициент оттока"
   ]
  },
  {
   "cell_type": "code",
   "execution_count": 29,
   "metadata": {},
   "outputs": [],
   "source": [
    "churn_rate_has = round((has_kids_true_true / has_kids_true) * 100, 2)"
   ]
  },
  {
   "cell_type": "code",
   "execution_count": 30,
   "metadata": {},
   "outputs": [],
   "source": [
    "has_not_kids_true_false = df.query('is_canceled == True and has_kids == False') \\\n",
    "               .agg({'is_canceled' : 'count' })"
   ]
  },
  {
   "cell_type": "code",
   "execution_count": 31,
   "metadata": {},
   "outputs": [
    {
     "data": {
      "text/plain": [
       "is_canceled    40965\n",
       "dtype: int64"
      ]
     },
     "execution_count": 31,
     "metadata": {},
     "output_type": "execute_result"
    }
   ],
   "source": [
    "has_not_kids_true_false"
   ]
  },
  {
   "cell_type": "code",
   "execution_count": 32,
   "metadata": {},
   "outputs": [],
   "source": [
    "has_not_kids_false = df.query('has_kids == False') \\\n",
    "               .agg({'is_canceled' : 'count' })"
   ]
  },
  {
   "cell_type": "code",
   "execution_count": 33,
   "metadata": {},
   "outputs": [
    {
     "data": {
      "text/plain": [
       "is_canceled    110058\n",
       "dtype: int64"
      ]
     },
     "execution_count": 33,
     "metadata": {},
     "output_type": "execute_result"
    }
   ],
   "source": [
    "has_not_kids_false"
   ]
  },
  {
   "cell_type": "code",
   "execution_count": 34,
   "metadata": {},
   "outputs": [],
   "source": [
    "churn_rate_not_has = round((has_not_kids_true_false / has_not_kids_false) * 100, 2)"
   ]
  }
 ],
 "metadata": {
  "kernelspec": {
   "display_name": "Python 3",
   "language": "python",
   "name": "python3"
  },
  "language_info": {
   "codemirror_mode": {
    "name": "ipython",
    "version": 3
   },
   "file_extension": ".py",
   "mimetype": "text/x-python",
   "name": "python",
   "nbconvert_exporter": "python",
   "pygments_lexer": "ipython3",
   "version": "3.7.3"
  }
 },
 "nbformat": 4,
 "nbformat_minor": 4
}
