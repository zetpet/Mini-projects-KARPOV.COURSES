{
 "cells": [
  {
   "cell_type": "code",
   "execution_count": 460,
   "metadata": {},
   "outputs": [],
   "source": [
    "import pandas as pd\n",
    "import os\n",
    "import seaborn as sns\n",
    "import matplotlib.pyplot as plt\n",
    "%matplotlib inline"
   ]
  },
  {
   "cell_type": "code",
   "execution_count": 461,
   "metadata": {},
   "outputs": [],
   "source": [
    "log = pd.read_csv('/mnt/HC_Volume_18315164/home-jupyter/jupyter-r-ababkov/shared/homeworks/python_ds_miniprojects/5_subsid/subsid/prod_activations_logs.csv', sep=';')"
   ]
  },
  {
   "cell_type": "code",
   "execution_count": 1,
   "metadata": {},
   "outputs": [],
   "source": [
    "# df_log = pd.DataFrame()\n",
    "# for i in os.listdir('/mnt/HC_Volume_18315164/home-jupyter/jupyter-r-ababkov/shared/homeworks/python_ds_miniprojects/5_subsid/subsid/'):\n",
    "#     way_to_csv = '/mnt/HC_Volume_18315164/home-jupyter/jupyter-r-ababkov/shared/homeworks/python_ds_miniprojects/5_subsid/subsid/' + i\n",
    "#     final_df = pd.read_csv(way_to_csv, sep=';')\n",
    "#     df_log = pd.concat([df_log, final_df])"
   ]
  },
  {
   "cell_type": "code",
   "execution_count": 463,
   "metadata": {},
   "outputs": [],
   "source": [
    "df_1 = pd.read_csv('/mnt/HC_Volume_18315164/home-jupyter/jupyter-r-ababkov/shared/homeworks/python_ds_miniprojects/5_subsid/subsid/tm_sales_1.csv', sep=';')"
   ]
  },
  {
   "cell_type": "code",
   "execution_count": 464,
   "metadata": {},
   "outputs": [],
   "source": [
    "df_2 = pd.read_csv('/mnt/HC_Volume_18315164/home-jupyter/jupyter-r-ababkov/shared/homeworks/python_ds_miniprojects/5_subsid/subsid/tm_sales_2.csv', sep=';')"
   ]
  },
  {
   "cell_type": "code",
   "execution_count": 465,
   "metadata": {},
   "outputs": [],
   "source": [
    "df_3 = pd.read_csv('/mnt/HC_Volume_18315164/home-jupyter/jupyter-r-ababkov/shared/homeworks/python_ds_miniprojects/5_subsid/subsid/tm_sales_3.csv', sep=';')"
   ]
  },
  {
   "cell_type": "code",
   "execution_count": null,
   "metadata": {},
   "outputs": [],
   "source": [
    "#Необходимо проверить подключения продуктов определенным пользователям, \n",
    "    #соединив файлы о продажах с логами по подключениям в системе"
   ]
  },
  {
   "cell_type": "code",
   "execution_count": 466,
   "metadata": {},
   "outputs": [],
   "source": [
    "df_total = pd.concat([df_1, df_2, df_3])"
   ]
  },
  {
   "cell_type": "code",
   "execution_count": 467,
   "metadata": {},
   "outputs": [
    {
     "data": {
      "text/html": [
       "<div>\n",
       "<style scoped>\n",
       "    .dataframe tbody tr th:only-of-type {\n",
       "        vertical-align: middle;\n",
       "    }\n",
       "\n",
       "    .dataframe tbody tr th {\n",
       "        vertical-align: top;\n",
       "    }\n",
       "\n",
       "    .dataframe thead th {\n",
       "        text-align: right;\n",
       "    }\n",
       "</style>\n",
       "<table border=\"1\" class=\"dataframe\">\n",
       "  <thead>\n",
       "    <tr style=\"text-align: right;\">\n",
       "      <th></th>\n",
       "      <th>SUBS_ID</th>\n",
       "      <th>FILIAL_ID</th>\n",
       "      <th>PROD_ID</th>\n",
       "      <th>ACT_DTTM</th>\n",
       "    </tr>\n",
       "  </thead>\n",
       "  <tbody>\n",
       "    <tr>\n",
       "      <th>0</th>\n",
       "      <td>id4651830</td>\n",
       "      <td>1</td>\n",
       "      <td>1954</td>\n",
       "      <td>20-03-2020 14:59</td>\n",
       "    </tr>\n",
       "    <tr>\n",
       "      <th>1</th>\n",
       "      <td>7646509</td>\n",
       "      <td>5</td>\n",
       "      <td>6431</td>\n",
       "      <td>19-03-2020 13:00</td>\n",
       "    </tr>\n",
       "    <tr>\n",
       "      <th>2</th>\n",
       "      <td>id7412683</td>\n",
       "      <td>4</td>\n",
       "      <td>3313</td>\n",
       "      <td>22-03-2020 17:25</td>\n",
       "    </tr>\n",
       "    <tr>\n",
       "      <th>0</th>\n",
       "      <td>id5416547</td>\n",
       "      <td>3</td>\n",
       "      <td>1743</td>\n",
       "      <td>17-03-2020 10:17</td>\n",
       "    </tr>\n",
       "    <tr>\n",
       "      <th>1</th>\n",
       "      <td>NaN</td>\n",
       "      <td>4</td>\n",
       "      <td>7421</td>\n",
       "      <td>12-03-2020 11:25</td>\n",
       "    </tr>\n",
       "    <tr>\n",
       "      <th>2</th>\n",
       "      <td>8362218</td>\n",
       "      <td>7</td>\n",
       "      <td>9879</td>\n",
       "      <td>05-03-2020 11:42</td>\n",
       "    </tr>\n",
       "    <tr>\n",
       "      <th>3</th>\n",
       "      <td>2185490</td>\n",
       "      <td>2</td>\n",
       "      <td>3210</td>\n",
       "      <td>16-03-2020 16:28</td>\n",
       "    </tr>\n",
       "    <tr>\n",
       "      <th>0</th>\n",
       "      <td>id5764122</td>\n",
       "      <td>3</td>\n",
       "      <td>1499</td>\n",
       "      <td>18-03-2020 15:44</td>\n",
       "    </tr>\n",
       "    <tr>\n",
       "      <th>1</th>\n",
       "      <td>id7642700</td>\n",
       "      <td>6</td>\n",
       "      <td>3020</td>\n",
       "      <td>15-03-2020 14:21</td>\n",
       "    </tr>\n",
       "    <tr>\n",
       "      <th>2</th>\n",
       "      <td>id1374509</td>\n",
       "      <td>2</td>\n",
       "      <td>5677</td>\n",
       "      <td>17-03-2020 11:48</td>\n",
       "    </tr>\n",
       "  </tbody>\n",
       "</table>\n",
       "</div>"
      ],
      "text/plain": [
       "     SUBS_ID  FILIAL_ID  PROD_ID          ACT_DTTM\n",
       "0  id4651830          1     1954  20-03-2020 14:59\n",
       "1    7646509          5     6431  19-03-2020 13:00\n",
       "2  id7412683          4     3313  22-03-2020 17:25\n",
       "0  id5416547          3     1743  17-03-2020 10:17\n",
       "1        NaN          4     7421  12-03-2020 11:25\n",
       "2    8362218          7     9879  05-03-2020 11:42\n",
       "3    2185490          2     3210  16-03-2020 16:28\n",
       "0  id5764122          3     1499  18-03-2020 15:44\n",
       "1  id7642700          6     3020  15-03-2020 14:21\n",
       "2  id1374509          2     5677  17-03-2020 11:48"
      ]
     },
     "execution_count": 467,
     "metadata": {},
     "output_type": "execute_result"
    }
   ],
   "source": [
    "df_total"
   ]
  },
  {
   "cell_type": "code",
   "execution_count": 468,
   "metadata": {},
   "outputs": [],
   "source": [
    "df_total = df_total.dropna(subset=['SUBS_ID']) \\\n",
    "    .reset_index(drop=True)"
   ]
  },
  {
   "cell_type": "code",
   "execution_count": 469,
   "metadata": {},
   "outputs": [],
   "source": [
    "def id_df(SUBS_ID):\n",
    "    if not SUBS_ID.startswith('id'):\n",
    "        id_df = 'id' + SUBS_ID\n",
    "        return id_df\n",
    "    else:\n",
    "        return SUBS_ID"
   ]
  },
  {
   "cell_type": "code",
   "execution_count": 470,
   "metadata": {},
   "outputs": [],
   "source": [
    "df_total['SUBS_ID'] = df_total.SUBS_ID.apply(id_df)"
   ]
  },
  {
   "cell_type": "code",
   "execution_count": 471,
   "metadata": {},
   "outputs": [],
   "source": [
    "total_log = df_total.merge(log, how = 'inner', on = ['SUBS_ID', 'PROD_ID'])"
   ]
  },
  {
   "cell_type": "code",
   "execution_count": 472,
   "metadata": {},
   "outputs": [],
   "source": [
    "total_log['START_DTTM']= pd.to_datetime(total_log['START_DTTM'], format='%d-%m-%Y %H:%M')"
   ]
  },
  {
   "cell_type": "code",
   "execution_count": 473,
   "metadata": {},
   "outputs": [],
   "source": [
    "total_log['END_DTTM'] = pd.to_datetime(total_log['END_DTTM'], format='%d-%m-%Y %H:%M')"
   ]
  },
  {
   "cell_type": "code",
   "execution_count": 474,
   "metadata": {},
   "outputs": [
    {
     "data": {
      "text/html": [
       "<div>\n",
       "<style scoped>\n",
       "    .dataframe tbody tr th:only-of-type {\n",
       "        vertical-align: middle;\n",
       "    }\n",
       "\n",
       "    .dataframe tbody tr th {\n",
       "        vertical-align: top;\n",
       "    }\n",
       "\n",
       "    .dataframe thead th {\n",
       "        text-align: right;\n",
       "    }\n",
       "</style>\n",
       "<table border=\"1\" class=\"dataframe\">\n",
       "  <thead>\n",
       "    <tr style=\"text-align: right;\">\n",
       "      <th></th>\n",
       "      <th>SUBS_ID</th>\n",
       "      <th>FILIAL_ID</th>\n",
       "      <th>PROD_ID</th>\n",
       "      <th>ACT_DTTM</th>\n",
       "      <th>START_DTTM</th>\n",
       "      <th>END_DTTM</th>\n",
       "    </tr>\n",
       "  </thead>\n",
       "  <tbody>\n",
       "    <tr>\n",
       "      <th>3</th>\n",
       "      <td>id2185490</td>\n",
       "      <td>2</td>\n",
       "      <td>3210</td>\n",
       "      <td>16-03-2020 16:28</td>\n",
       "      <td>2020-03-16 16:28:00</td>\n",
       "      <td>2020-12-01 00:00:00</td>\n",
       "    </tr>\n",
       "    <tr>\n",
       "      <th>0</th>\n",
       "      <td>id4651830</td>\n",
       "      <td>1</td>\n",
       "      <td>1954</td>\n",
       "      <td>20-03-2020 14:59</td>\n",
       "      <td>2020-03-20 14:59:00</td>\n",
       "      <td>2020-12-01 00:00:00</td>\n",
       "    </tr>\n",
       "    <tr>\n",
       "      <th>2</th>\n",
       "      <td>id5416547</td>\n",
       "      <td>3</td>\n",
       "      <td>1743</td>\n",
       "      <td>17-03-2020 10:17</td>\n",
       "      <td>2020-03-17 10:17:00</td>\n",
       "      <td>2020-03-25 11:00:00</td>\n",
       "    </tr>\n",
       "    <tr>\n",
       "      <th>4</th>\n",
       "      <td>id7642700</td>\n",
       "      <td>6</td>\n",
       "      <td>3020</td>\n",
       "      <td>15-03-2020 14:21</td>\n",
       "      <td>2020-03-15 14:21:00</td>\n",
       "      <td>2020-03-15 23:42:00</td>\n",
       "    </tr>\n",
       "    <tr>\n",
       "      <th>1</th>\n",
       "      <td>id7646509</td>\n",
       "      <td>5</td>\n",
       "      <td>6431</td>\n",
       "      <td>19-03-2020 13:00</td>\n",
       "      <td>2020-03-19 13:00:00</td>\n",
       "      <td>2020-03-19 13:03:00</td>\n",
       "    </tr>\n",
       "  </tbody>\n",
       "</table>\n",
       "</div>"
      ],
      "text/plain": [
       "     SUBS_ID  FILIAL_ID  PROD_ID          ACT_DTTM          START_DTTM  \\\n",
       "3  id2185490          2     3210  16-03-2020 16:28 2020-03-16 16:28:00   \n",
       "0  id4651830          1     1954  20-03-2020 14:59 2020-03-20 14:59:00   \n",
       "2  id5416547          3     1743  17-03-2020 10:17 2020-03-17 10:17:00   \n",
       "4  id7642700          6     3020  15-03-2020 14:21 2020-03-15 14:21:00   \n",
       "1  id7646509          5     6431  19-03-2020 13:00 2020-03-19 13:00:00   \n",
       "\n",
       "             END_DTTM  \n",
       "3 2020-12-01 00:00:00  \n",
       "0 2020-12-01 00:00:00  \n",
       "2 2020-03-25 11:00:00  \n",
       "4 2020-03-15 23:42:00  \n",
       "1 2020-03-19 13:03:00  "
      ]
     },
     "execution_count": 474,
     "metadata": {},
     "output_type": "execute_result"
    }
   ],
   "source": [
    "total_log.sort_values('SUBS_ID')"
   ]
  },
  {
   "cell_type": "code",
   "execution_count": 475,
   "metadata": {},
   "outputs": [],
   "source": [
    "delta = total_log.END_DTTM - total_log.START_DTTM"
   ]
  },
  {
   "cell_type": "code",
   "execution_count": 476,
   "metadata": {},
   "outputs": [
    {
     "data": {
      "text/plain": [
       "1     0 days 00:03:00\n",
       "4     0 days 09:21:00\n",
       "2     8 days 00:43:00\n",
       "0   255 days 09:01:00\n",
       "3   259 days 07:32:00\n",
       "dtype: timedelta64[ns]"
      ]
     },
     "execution_count": 476,
     "metadata": {},
     "output_type": "execute_result"
    }
   ],
   "source": [
    "delta.sort_values()"
   ]
  },
  {
   "cell_type": "code",
   "execution_count": 477,
   "metadata": {},
   "outputs": [
    {
     "data": {
      "text/plain": [
       "0     True\n",
       "1    False\n",
       "2     True\n",
       "3     True\n",
       "4     True\n",
       "dtype: bool"
      ]
     },
     "execution_count": 477,
     "metadata": {},
     "output_type": "execute_result"
    }
   ],
   "source": [
    "delta > '5m'"
   ]
  },
  {
   "cell_type": "code",
   "execution_count": 478,
   "metadata": {},
   "outputs": [],
   "source": [
    "total_log['difference'] = delta"
   ]
  },
  {
   "cell_type": "code",
   "execution_count": 479,
   "metadata": {},
   "outputs": [],
   "source": [
    "csv = total_log[['ACT_DTTM', 'FILIAL_ID', 'difference']].sort_values('difference', ascending=False)"
   ]
  },
  {
   "cell_type": "code",
   "execution_count": 480,
   "metadata": {},
   "outputs": [],
   "source": [
    "csv.to_csv('data', sep=';')"
   ]
  }
 ],
 "metadata": {
  "kernelspec": {
   "display_name": "Python 3",
   "language": "python",
   "name": "python3"
  },
  "language_info": {
   "codemirror_mode": {
    "name": "ipython",
    "version": 3
   },
   "file_extension": ".py",
   "mimetype": "text/x-python",
   "name": "python",
   "nbconvert_exporter": "python",
   "pygments_lexer": "ipython3",
   "version": "3.7.3"
  }
 },
 "nbformat": 4,
 "nbformat_minor": 4
}
