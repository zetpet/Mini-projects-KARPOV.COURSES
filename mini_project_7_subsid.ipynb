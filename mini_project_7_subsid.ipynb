{
 "cells": [
  {
   "cell_type": "code",
   "execution_count": 1,
   "metadata": {},
   "outputs": [],
   "source": [
    "import pandas as pd\n",
    "import requests\n",
    "import seaborn as sns\n",
    "import matplotlib.pyplot as plt"
   ]
  },
  {
   "cell_type": "code",
   "execution_count": null,
   "metadata": {},
   "outputs": [],
   "source": [
    "#Ваша задача – найти все произведения, связанные с подсолнухами. Выполните поиск по слову \"sunflowers\". \n",
    "    #Внимательно посмотрите на формат ответа и сохраните id полученных объектов в список sunflower_ids"
   ]
  },
  {
   "cell_type": "code",
   "execution_count": 2,
   "metadata": {},
   "outputs": [],
   "source": [
    "r = requests.get('https://collectionapi.metmuseum.org/public/collection/v1/search?q=sunflowers')\n",
    "sunflower_ids = r.json()"
   ]
  },
  {
   "cell_type": "code",
   "execution_count": 3,
   "metadata": {},
   "outputs": [],
   "source": [
    "sunflower_id = sunflower_ids.get('objectIDs')\n",
    "url = 'https://collectionapi.metmuseum.org/public/collection/v1/objects/'"
   ]
  },
  {
   "cell_type": "code",
   "execution_count": 4,
   "metadata": {
    "scrolled": false
   },
   "outputs": [],
   "source": [
    "df_sunflower_id = pd.DataFrame ()\n",
    "for i in sunflower_id:\n",
    "    object_id = requests.get(url + str(i))\n",
    "    total = object_id.json()\n",
    "    df_to = pd.DataFrame({\"objectID\": total.get('objectID'),\n",
    "                    \"title\": total.get('title'),\n",
    "                    \"artistDisplayName\" : total.get('artistDisplayName'),\n",
    "                    \"department\" : total.get('department'),\n",
    "                    \"objectBeginDate\" : total.get('objectBeginDate'),\n",
    "                    \"objectEndDate\" : total.get('objectEndDate'),\n",
    "                    \"period\" : total.get('period'),\n",
    "                    \"objectName\" : total.get('objectName'),\n",
    "                    \"culture\" : total.get('culture')},\n",
    "                    index=[0])\n",
    "    df_sunflower_id = pd.concat([df_to, df_sunflower_id])"
   ]
  },
  {
   "cell_type": "code",
   "execution_count": null,
   "metadata": {},
   "outputs": [],
   "source": [
    "#Выполните поисковый запрос для департамента \"Asian art\" (departmentId = 6) с тегом \"cat\" и запишите id объектов в cat_ids. \n",
    "    #Используйте цикл из шага 4, чтобы получить данные о первой 1000 объектов из списка"
   ]
  },
  {
   "cell_type": "code",
   "execution_count": 6,
   "metadata": {},
   "outputs": [],
   "source": [
    "r = requests.get('https://collectionapi.metmuseum.org/public/collection/v1/search?departmentId=6&q=cat')\n",
    "cats = r.json()\n",
    "cat = cats.get('objectIDs')\n",
    "url_cat = 'https://collectionapi.metmuseum.org/public/collection/v1/objects/'"
   ]
  },
  {
   "cell_type": "code",
   "execution_count": null,
   "metadata": {},
   "outputs": [],
   "source": [
    "df_cats = pd.DataFrame()\n",
    "for i in cat:\n",
    "    object_cat = requests.get(url_cat + str(i))\n",
    "    total_cat = object_cat.json()\n",
    "    df_to_cat = pd.DataFrame({\"objectID\": total.get('objectID'),\n",
    "                    \"title\": total.get('title'),\n",
    "                    \"artistDisplayName\" : total.get('artistDisplayName'),\n",
    "                    \"department\" : total.get('department'),\n",
    "                    \"objectBeginDate\" : total.get('objectBeginDate'),\n",
    "                    \"objectEndDate\" : total.get('objectEndDate'),\n",
    "                    \"period\" : total.get('period'),\n",
    "                    \"objectName\" : total.get('objectName'),\n",
    "                    \"culture\" : total.get('culture')},\n",
    "                    index=[0])\n",
    "    df_cats = pd.concat([df_to_cat, df_cats])"
   ]
  }
 ],
 "metadata": {
  "kernelspec": {
   "display_name": "Python 3",
   "language": "python",
   "name": "python3"
  },
  "language_info": {
   "codemirror_mode": {
    "name": "ipython",
    "version": 3
   },
   "file_extension": ".py",
   "mimetype": "text/x-python",
   "name": "python",
   "nbconvert_exporter": "python",
   "pygments_lexer": "ipython3",
   "version": "3.7.3"
  }
 },
 "nbformat": 4,
 "nbformat_minor": 4
}
